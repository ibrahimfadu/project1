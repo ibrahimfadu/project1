{
 "cells": [
  {
   "cell_type": "code",
   "execution_count": 76,
   "id": "876aefce-2acd-4021-a8b0-f717852608b1",
   "metadata": {},
   "outputs": [],
   "source": [
    "import pandas as pd\n",
    "import numpy\n",
    "import matplotlib.pyplot as plt"
   ]
  },
  {
   "cell_type": "code",
   "execution_count": 90,
   "id": "14137e2a-f39a-4fbe-9371-a1790b976532",
   "metadata": {},
   "outputs": [
    {
     "name": "stdin",
     "output_type": "stream",
     "text": [
      "Enter the filename:  /home/ibrahim/Projects/project1/student_marks.csv\n",
      "Enter the Subject:  Maths\n",
      "Do yo want graph \n",
      " Enter y or n n\n"
     ]
    },
    {
     "name": "stdout",
     "output_type": "stream",
     "text": [
      "\n",
      "\n",
      "\n",
      "     Name  Maths\n",
      "1  Suresh     75\n",
      "5    Annu     45\n",
      "7  Ritesh     54\n",
      "8   Farha     55\n",
      "9  Mukesh     96\n",
      "\n",
      "\n",
      "Graph skipped as user input\n"
     ]
    }
   ],
   "source": [
    "file=input(\"Enter the filename: \")\n",
    "sub=input(\"Enter the Subject: \")\n",
    "graph=input(\"Do yo want graph \\n Enter y or n\")\n",
    "print(\"\\n\\n\")\n",
    "df=pd.read_csv(file)\n",
    "print(df.loc[df['Marks']>=75,['Name',sub]])\n",
    "if graph.lower()=='y':\n",
    "    plt.barh(df[\"Name\"],df[sub],color='red')\n",
    "    plt.title(\"Bar Graph\")\n",
    "    plt.xlabel(\"Name\")\n",
    "    plt.ylabel(\"Marks\")\n",
    "else:\n",
    "    print(\"\\n\")\n",
    "    print(\"Graph skipped as user input\")"
   ]
  },
  {
   "cell_type": "code",
   "execution_count": null,
   "id": "568fb3e8-e7e5-4ef5-833a-9d99c8ddda27",
   "metadata": {},
   "outputs": [],
   "source": []
  },
  {
   "cell_type": "code",
   "execution_count": null,
   "id": "3884046b-751c-4e92-beb0-b67274b0ad68",
   "metadata": {},
   "outputs": [],
   "source": []
  },
  {
   "cell_type": "code",
   "execution_count": null,
   "id": "f8961e1c-e535-487a-823e-b5105c078b56",
   "metadata": {},
   "outputs": [],
   "source": []
  }
 ],
 "metadata": {
  "kernelspec": {
   "display_name": "Python 3 (ipykernel)",
   "language": "python",
   "name": "python3"
  },
  "language_info": {
   "codemirror_mode": {
    "name": "ipython",
    "version": 3
   },
   "file_extension": ".py",
   "mimetype": "text/x-python",
   "name": "python",
   "nbconvert_exporter": "python",
   "pygments_lexer": "ipython3",
   "version": "3.11.7"
  }
 },
 "nbformat": 4,
 "nbformat_minor": 5
}
